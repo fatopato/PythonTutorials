{
 "cells": [
  {
   "cell_type": "code",
   "execution_count": 1,
   "metadata": {},
   "outputs": [],
   "source": [
    "# Class standartları belli olan bir taslak gibidir. Örneğin bir evin ik boyutlu çizimi\n",
    "# Obje Class'tan oluşturulan örnektir. Öğreğin: iki boyutlu çizimden oluşturulan ev"
   ]
  },
  {
   "cell_type": "code",
   "execution_count": 4,
   "metadata": {},
   "outputs": [],
   "source": [
    "# Classlar tekrar tekrar kullanılabilmek için ve kendini tekrar etmeni engellemek için idealdir\n",
    "class Hayvan:\n",
    "    pass"
   ]
  },
  {
   "cell_type": "code",
   "execution_count": 9,
   "metadata": {},
   "outputs": [],
   "source": [
    "# Hayvan class'ından bir obje oluşturmak için \n",
    "hayvan1 = Hayvan()"
   ]
  },
  {
   "cell_type": "code",
   "execution_count": 12,
   "metadata": {},
   "outputs": [
    {
     "name": "stdout",
     "output_type": "stream",
     "text": [
      "int tipi: <class 'int'>\n",
      "hayvan1'in tipi: <class '__main__.Hayvan'>\n"
     ]
    }
   ],
   "source": [
    "print(\"int tipi:\", type(2))\n",
    "print(\"hayvan1'in tipi:\", type(hayvan1))"
   ]
  },
  {
   "cell_type": "code",
   "execution_count": 16,
   "metadata": {},
   "outputs": [],
   "source": [
    "# Bir classtan obje oluştuğunda init fonksiyonu çağrılır\n",
    "class Hayvan:\n",
    "    \n",
    "    def __init__(self):\n",
    "        print(\"Hayvan oluşturuldu\")"
   ]
  },
  {
   "cell_type": "code",
   "execution_count": 18,
   "metadata": {},
   "outputs": [
    {
     "name": "stdout",
     "output_type": "stream",
     "text": [
      "Hayvan oluşturuldu\n"
     ]
    }
   ],
   "source": [
    "hayvan2 = Hayvan()"
   ]
  },
  {
   "cell_type": "code",
   "execution_count": 29,
   "metadata": {},
   "outputs": [],
   "source": [
    "# Hayvanın bazı özellikleri vardır Ör: ismi, sahibinin ismi\n",
    "# Hayvanın fonksiyonları: yemek, koşmak, ses çıkarmak\n",
    "class Hayvan:\n",
    "    \n",
    "    isim = 'isimsiz'\n",
    "    sahibinin_ismi = 'doğa_ana'\n",
    "    \n",
    "    def __init__(self):\n",
    "        print(\"Hayvan üredi\")\n",
    "        \n",
    "    def ye(self):\n",
    "        print(\"{} yiyor\".format(self.isim))\n",
    "        \n",
    "    def kos(self):\n",
    "        print(\"{} koşuyor\".format(self.isim))\n",
    "        \n",
    "    def ses_ver(self):\n",
    "        print(\"Hülooğ\")\n",
    "    "
   ]
  },
  {
   "cell_type": "code",
   "execution_count": 30,
   "metadata": {},
   "outputs": [
    {
     "name": "stdout",
     "output_type": "stream",
     "text": [
      "Hayvan üredi\n"
     ]
    }
   ],
   "source": [
    "dolly = Hayvan()"
   ]
  },
  {
   "cell_type": "code",
   "execution_count": 23,
   "metadata": {},
   "outputs": [
    {
     "name": "stdout",
     "output_type": "stream",
     "text": [
      "dollyy'nin ismi isimsiz, sahibini ismi doğa_ana\n"
     ]
    }
   ],
   "source": [
    "print(\"dollyy'nin ismi {}, sahibini ismi {}\".format(dolly.isim, dolly.sahibinin_ismi))"
   ]
  },
  {
   "cell_type": "code",
   "execution_count": 32,
   "metadata": {},
   "outputs": [],
   "source": [
    "# Dollynin özelliklerini değiştirelim\n",
    "dolly.isim = \"Karabaş\"\n",
    "dolly.sahibinin_ismi = \"Tugce Ana\""
   ]
  },
  {
   "cell_type": "code",
   "execution_count": 33,
   "metadata": {},
   "outputs": [
    {
     "name": "stdout",
     "output_type": "stream",
     "text": [
      "Değiştirdikten sonra dollyy'nin ismi Karabaş, sahibini ismi Tugce Ana\n"
     ]
    }
   ],
   "source": [
    "print(\"Değiştirdikten sonra dollyy'nin ismi {}, sahibini ismi {}\".format(dolly.isim, dolly.sahibinin_ismi))"
   ]
  },
  {
   "cell_type": "code",
   "execution_count": 37,
   "metadata": {},
   "outputs": [
    {
     "name": "stdout",
     "output_type": "stream",
     "text": [
      "Karabaş koşuyor\n",
      "Karabaş yiyor\n"
     ]
    }
   ],
   "source": [
    "# objenin fonksyionlarına ulaşmak için obje_adı.foksiyon_adı() kullanılır\n",
    "dolly.kos()\n",
    "dolly.ye()"
   ]
  },
  {
   "cell_type": "code",
   "execution_count": 39,
   "metadata": {},
   "outputs": [],
   "source": [
    "# Init fonksiyonunda giriş parametreleri alalı: ismini, sahibinin adını alalım\n",
    "class Hayvan:\n",
    "        \n",
    "    def __init__(self, isim, sahibi):\n",
    "        self.isim = isim\n",
    "        self.sahibi = sahibi\n",
    "        print(\"Hayvan üredi, ismi: {}, sahibi: {}\".format(self.isim , self.sahibi))\n",
    "        \n",
    "    def ye(self):\n",
    "        print(\"{} yiyor\".format(self.isim))\n",
    "        \n",
    "    def kos(self):\n",
    "        print(\"{} koşuyor\".format(self.isim))\n",
    "        \n",
    "    def ses_ver(self):\n",
    "        print(\"Hülooğ\")"
   ]
  },
  {
   "cell_type": "code",
   "execution_count": 41,
   "metadata": {},
   "outputs": [
    {
     "name": "stdout",
     "output_type": "stream",
     "text": [
      "Hayvan üredi, ismi: Duman, sahibi: Köprücü\n"
     ]
    }
   ],
   "source": [
    "# Artık parametre vermezsek obje hata verir\n",
    "# m = Hayvan() hata verir\n",
    "m = Hayvan(isim=\"Duman\" , sahibi=\"Köprücü\")"
   ]
  },
  {
   "cell_type": "code",
   "execution_count": 43,
   "metadata": {},
   "outputs": [
    {
     "name": "stdout",
     "output_type": "stream",
     "text": [
      "Hayvan üredi, ismi: Kadırgalı, sahibi: Çomarın ablası\n"
     ]
    }
   ],
   "source": [
    "x = Hayvan(\"Kadırgalı\", \"Çomarın ablası\")"
   ]
  },
  {
   "cell_type": "code",
   "execution_count": 46,
   "metadata": {},
   "outputs": [
    {
     "name": "stdout",
     "output_type": "stream",
     "text": [
      "Duman koşuyor\n",
      "Duman yiyor\n"
     ]
    }
   ],
   "source": [
    "m.kos()\n",
    "m.ye()"
   ]
  },
  {
   "cell_type": "code",
   "execution_count": 48,
   "metadata": {},
   "outputs": [
    {
     "name": "stdout",
     "output_type": "stream",
     "text": [
      "<__main__.Hayvan object at 0x7f2e4945d0b8>\n"
     ]
    }
   ],
   "source": [
    "# Nesneyi yazdırdığımızda aşağıdaki değeri alırız\n",
    "print(x)\n",
    "# Daha okunaklı bir değer almak için obje içinde __str__ fonksiyonu tanımlanır"
   ]
  },
  {
   "cell_type": "code",
   "execution_count": 49,
   "metadata": {},
   "outputs": [],
   "source": [
    "# str ekleyelim\n",
    "class Hayvan:\n",
    "        \n",
    "    def __init__(self, isim, sahibi):\n",
    "        self.isim = isim\n",
    "        self.sahibi = sahibi\n",
    "        print(\"Hayvan üredi, ismi: {}, sahibi: {}\".format(self.isim , self.sahibi))\n",
    "        \n",
    "    def ye(self):\n",
    "        print(\"{} yiyor\".format(self.isim))\n",
    "        \n",
    "    def kos(self):\n",
    "        print(\"{} koşuyor\".format(self.isim))\n",
    "        \n",
    "    def ses_ver(self):\n",
    "        print(\"Hülooğ\")\n",
    "        \n",
    "    def __str__(self):\n",
    "        return \"Hayvanın adı: {}, Hayvanın sahibi: {}\".format(self.isim , self.sahibi)"
   ]
  },
  {
   "cell_type": "code",
   "execution_count": 51,
   "metadata": {},
   "outputs": [
    {
     "name": "stdout",
     "output_type": "stream",
     "text": [
      "Hayvan üredi, ismi: cenap şahabettin, sahibi: manganın solisti\n"
     ]
    }
   ],
   "source": [
    "# şimdi yeniden obje oluşturalım\n",
    "hayvancik = Hayvan(\"cenap şahabettin\", \"manganın solisti\")"
   ]
  },
  {
   "cell_type": "code",
   "execution_count": 55,
   "metadata": {},
   "outputs": [
    {
     "name": "stdout",
     "output_type": "stream",
     "text": [
      "Hayvanın adı: cenap şahabettin, Hayvanın sahibi: manganın solisti\n"
     ]
    }
   ],
   "source": [
    "print(hayvancik)"
   ]
  },
  {
   "cell_type": "code",
   "execution_count": 56,
   "metadata": {},
   "outputs": [
    {
     "data": {
      "text/plain": [
       "4"
      ]
     },
     "execution_count": 56,
     "metadata": {},
     "output_type": "execute_result"
    }
   ],
   "source": [
    "liste = [1,2,3,4]\n",
    "len(liste)"
   ]
  },
  {
   "cell_type": "code",
   "execution_count": 60,
   "metadata": {},
   "outputs": [],
   "source": [
    "# Objeye yaparsam\n",
    "# len(hayvancik) hata verir\n",
    "# hayvana doğum_tarihi, ve aşı_yapıldı_mı ekleyelim\n",
    "\n",
    "class Hayvan:\n",
    "    \n",
    "    dogum_tarihi = 1990\n",
    "    asi_yapidli = False\n",
    "    \n",
    "    def __init__(self, isim, sahibi):\n",
    "        self.isim = isim\n",
    "        self.sahibi = sahibi\n",
    "        print(\"Hayvan üredi, ismi: {}, sahibi: {}\".format(self.isim , self.sahibi))\n",
    "        \n",
    "    def ye(self):\n",
    "        print(\"{} yiyor\".format(self.isim))\n",
    "        \n",
    "    def kos(self):\n",
    "        print(\"{} koşuyor\".format(self.isim))\n",
    "        \n",
    "    def ses_ver(self):\n",
    "        print(\"Hülooğ\")\n",
    "        \n",
    "    def __str__(self):\n",
    "        return \"Hayvanın adı: {}, Hayvanın sahibi: {}, Hayvanın yaşı: {},\".format(self.isim , self.sahibi , self.kac_yasinda())\n",
    "    \n",
    "    def asi_yap(self):\n",
    "        self.asi_yapidli = True\n",
    "        print(\"Aşı başarıyla gerçekleşti\")\n",
    "    \n",
    "    def asisi_var_mi(self):\n",
    "        if self.asi_yapidli == False:\n",
    "            print(\"Aşısı yapılmamış...\")\n",
    "        else:\n",
    "            print(\"Aşıları tam...\")\n",
    "    \n",
    "    def kac_yasinda(self):\n",
    "        return 2020 - self.dogum_tarihi\n",
    "    \n",
    "    def dogum_tarihi_ayarla(self , yıl):\n",
    "        self.dogum_tarihi = yıl\n",
    "        print(\"Yeni doğum tarihi:\",yıl)\n",
    "    "
   ]
  },
  {
   "cell_type": "code",
   "execution_count": 62,
   "metadata": {},
   "outputs": [
    {
     "name": "stdout",
     "output_type": "stream",
     "text": [
      "Hayvan üredi, ismi: Tugce, sahibi: Fatih\n",
      "Hayvanın adı: Tugce, Hayvanın sahibi: Fatih, Hayvanın yaşı: 30,\n"
     ]
    }
   ],
   "source": [
    "hayvean = Hayvan(\"Tugce\" , \"Fatih\")\n",
    "print(hayvean)\n"
   ]
  },
  {
   "cell_type": "code",
   "execution_count": 64,
   "metadata": {},
   "outputs": [
    {
     "name": "stdout",
     "output_type": "stream",
     "text": [
      "Aşısı yapılmamış...\n"
     ]
    }
   ],
   "source": [
    "hayvean.asisi_var_mi()"
   ]
  },
  {
   "cell_type": "code",
   "execution_count": 66,
   "metadata": {},
   "outputs": [
    {
     "name": "stdout",
     "output_type": "stream",
     "text": [
      "Aşı başarıyla gerçekleşti\n",
      "Aşıları tam...\n"
     ]
    }
   ],
   "source": [
    "hayvean.asi_yap()\n",
    "hayvean.asisi_var_mi()"
   ]
  },
  {
   "cell_type": "code",
   "execution_count": 68,
   "metadata": {},
   "outputs": [
    {
     "name": "stdout",
     "output_type": "stream",
     "text": [
      "Hayvanın yaşı 24\n",
      "Yeni doğum tarihi: 1996\n",
      "Hayvanın yeni yaşı:  24\n"
     ]
    }
   ],
   "source": [
    "print(\"Hayvanın yaşı\",hayvean.kac_yasinda())\n",
    "hayvean.dogum_tarihi_ayarla(1996)\n",
    "print(\"Hayvanın yeni yaşı: \", hayvean.kac_yasinda())"
   ]
  }
 ],
 "metadata": {
  "kernelspec": {
   "display_name": "Python 3",
   "language": "python",
   "name": "python3"
  },
  "language_info": {
   "codemirror_mode": {
    "name": "ipython",
    "version": 3
   },
   "file_extension": ".py",
   "mimetype": "text/x-python",
   "name": "python",
   "nbconvert_exporter": "python",
   "pygments_lexer": "ipython3",
   "version": "3.6.9"
  }
 },
 "nbformat": 4,
 "nbformat_minor": 2
}
