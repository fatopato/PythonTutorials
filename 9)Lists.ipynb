{
 "cells": [
  {
   "cell_type": "markdown",
   "metadata": {},
   "source": [
    "# Listeler"
   ]
  },
  {
   "cell_type": "code",
   "execution_count": 21,
   "metadata": {},
   "outputs": [],
   "source": [
    "# Liste veri tipi değişkenleri barındırır\n",
    "# list ile ifade edilir\n",
    "# list belirtmek için [] kullanılır\n",
    "# list sıralıdır ve içindeki değerler değiştirilebilir"
   ]
  },
  {
   "cell_type": "code",
   "execution_count": 22,
   "metadata": {},
   "outputs": [],
   "source": [
    "meyveler = [\"muz\", \"çilek\", \"portakal\", \"kivi\"]"
   ]
  },
  {
   "cell_type": "code",
   "execution_count": 23,
   "metadata": {},
   "outputs": [],
   "source": [
    "# listenin içindeki değerlerin sıralaması sıfırdan başlar\n",
    "# ilk elemanın indeksi 0 sonra 1,2 diye devam eder\n",
    "# meyveler listesinin 2 numaralı elemanı : portakaldır."
   ]
  },
  {
   "cell_type": "code",
   "execution_count": 24,
   "metadata": {},
   "outputs": [
    {
     "data": {
      "text/plain": [
       "'portakal'"
      ]
     },
     "execution_count": 24,
     "metadata": {},
     "output_type": "execute_result"
    }
   ],
   "source": [
    "# listenin içerisindeki herhangi bir elemana erişmek için liste_ismi[elemanın_indeksi] kullanılır\n",
    "meyveler[2]"
   ]
  },
  {
   "cell_type": "code",
   "execution_count": 25,
   "metadata": {},
   "outputs": [
    {
     "data": {
      "text/plain": [
       "4"
      ]
     },
     "execution_count": 25,
     "metadata": {},
     "output_type": "execute_result"
    }
   ],
   "source": [
    "# listenin içindeki eleman sayısını bulmak için len(liste_adı) kullanılır\n",
    "len(meyveler)"
   ]
  },
  {
   "cell_type": "code",
   "execution_count": 26,
   "metadata": {},
   "outputs": [],
   "source": [
    "# len() fonksiyonu herhangi bir değişkenin eleman sayısınnı bulmak için de kullanılır"
   ]
  },
  {
   "cell_type": "code",
   "execution_count": 27,
   "metadata": {},
   "outputs": [
    {
     "name": "stdout",
     "output_type": "stream",
     "text": [
      "Meyveler ilk hali ['muz', 'çilek', 'portakal', 'kivi']\n",
      "Meyveler son hali ['armut', 'çilek', 'portakal', 'kivi']\n"
     ]
    }
   ],
   "source": [
    "# listedeki herhangi bir elemanın değeri değiştirilebilr\n",
    "# Bunun için liste_adı[elemanın_indeksi] = verilecek yeni değer\n",
    "print(\"Meyveler ilk hali\", meyveler)\n",
    "meyveler[0] = \"armut\"\n",
    "print(\"Meyveler son hali\", meyveler)"
   ]
  },
  {
   "cell_type": "code",
   "execution_count": 28,
   "metadata": {},
   "outputs": [
    {
     "data": {
      "text/plain": [
       "['armut', 'çilek', 'portakal', 'kivi', 'mandalina']"
      ]
     },
     "execution_count": 28,
     "metadata": {},
     "output_type": "execute_result"
    }
   ],
   "source": [
    "# Listenin sonuna yeni değer eklemek için append() fonksiyonu kullanılır\n",
    "meyveler.append(\"mandalina\")\n",
    "meyveler"
   ]
  },
  {
   "cell_type": "code",
   "execution_count": 29,
   "metadata": {},
   "outputs": [
    {
     "data": {
      "text/plain": [
       "['armut', 'elma', 'çilek', 'portakal', 'kivi', 'mandalina']"
      ]
     },
     "execution_count": 29,
     "metadata": {},
     "output_type": "execute_result"
    }
   ],
   "source": [
    "# Listenin arasına yeni değer eklemek için insert() kullanılır\n",
    "# insert(girilecek_indeks, girilecek_değer)\n",
    "meyveler.insert(1, \"elma\")\n",
    "meyveler # listenin 1.indeksine elma eklendi"
   ]
  },
  {
   "cell_type": "code",
   "execution_count": 30,
   "metadata": {},
   "outputs": [
    {
     "data": {
      "text/plain": [
       "['armut', 'elma', 'çilek', 'portakal', 'kivi']"
      ]
     },
     "execution_count": 30,
     "metadata": {},
     "output_type": "execute_result"
    }
   ],
   "source": [
    "# listeden eleman silmek için remove() fonksiyonu kullanılır\n",
    "meyveler.remove(\"mandalina\")\n",
    "meyveler"
   ]
  },
  {
   "cell_type": "code",
   "execution_count": 31,
   "metadata": {},
   "outputs": [
    {
     "data": {
      "text/plain": [
       "['armut', 'elma', 'çilek', 'portakal']"
      ]
     },
     "execution_count": 31,
     "metadata": {},
     "output_type": "execute_result"
    }
   ],
   "source": [
    "# listelerde pop() fonksiyonu sondaki elemanı silmek için kullanılır\n",
    "# Eğer pop() içerisie indeks_numarası girersek sondakini değil o indeksteki elemanı siler\n",
    "meyveler.pop()\n",
    "meyveler # Sondaki kivi elamanı silindi"
   ]
  },
  {
   "cell_type": "code",
   "execution_count": 32,
   "metadata": {},
   "outputs": [
    {
     "data": {
      "text/plain": [
       "['armut', 'elma', 'portakal']"
      ]
     },
     "execution_count": 32,
     "metadata": {},
     "output_type": "execute_result"
    }
   ],
   "source": [
    "meyveler.pop(2) # 2.indeksteki çilek elemanını siler\n",
    "meyveler"
   ]
  },
  {
   "cell_type": "code",
   "execution_count": 33,
   "metadata": {},
   "outputs": [],
   "source": [
    "# Silmek için del (liste_adı[indeks]) fonksiyonu da kullanılabilir"
   ]
  },
  {
   "cell_type": "code",
   "execution_count": 34,
   "metadata": {},
   "outputs": [
    {
     "data": {
      "text/plain": [
       "[]"
      ]
     },
     "execution_count": 34,
     "metadata": {},
     "output_type": "execute_result"
    }
   ],
   "source": [
    "# Tüm listeyi tamamen boşaltmak için clear() fonnksiyonu kulanılır\n",
    "meyveler.clear()\n",
    "meyveler # meyveler boş hale geldi"
   ]
  },
  {
   "cell_type": "code",
   "execution_count": 35,
   "metadata": {},
   "outputs": [
    {
     "name": "stdout",
     "output_type": "stream",
     "text": [
      "True\n",
      "False\n"
     ]
    }
   ],
   "source": [
    "# Bir listede herhangi bir elamanın var olup olmadığını şu şekilde kontrol edebiliriz\n",
    "# eleman_değeri in liste_adı\n",
    "sayilar = [23, 6, 19]\n",
    "alti_var_mi = 6 in sayilar # 6 listede yer aldığı için true verir\n",
    "print(alti_var_mi)\n",
    "on_var_mi = 10 in sayilar  # 10 listede yer almadığı için false verir\n",
    "print(on_var_mi)"
   ]
  },
  {
   "cell_type": "code",
   "execution_count": 36,
   "metadata": {},
   "outputs": [],
   "source": [
    "# isimler listesi\n",
    "isimler = [\"Fatih\", \"Tuğçe\", \"Sena\", \"Samet\"]"
   ]
  },
  {
   "cell_type": "code",
   "execution_count": 37,
   "metadata": {},
   "outputs": [
    {
     "name": "stdout",
     "output_type": "stream",
     "text": [
      "[23, 6, 19, 'Fatih', 'Tuğçe', 'Sena', 'Samet']\n"
     ]
    }
   ],
   "source": [
    "# iki listeyi birleştirmek için kolay bi şekilde liste1 + liste2 yapılabilir\n",
    "# örneğin sayilar + isimler gibi\n",
    "\n",
    "yeniliste = sayilar + isimler # 23, 6, 19 + 'Fatih', 'Tuğçe', 'Sena', 'Samet'\n",
    "print(yeniliste)"
   ]
  },
  {
   "cell_type": "code",
   "execution_count": 38,
   "metadata": {},
   "outputs": [
    {
     "data": {
      "text/plain": [
       "[19, 'Fatih', 'Tuğçe']"
      ]
     },
     "execution_count": 38,
     "metadata": {},
     "output_type": "execute_result"
    }
   ],
   "source": [
    "# Liste içerisinde belirli aralıklardaki değerlere erişim şu şekilde olur\n",
    "# liste_adı [ilk_indeks : son_indeks]\n",
    "# Not: son indeks kapsanmaz. Onu dışarıda bırakır\n",
    "yeniliste[2:5]"
   ]
  },
  {
   "cell_type": "code",
   "execution_count": 39,
   "metadata": {},
   "outputs": [
    {
     "data": {
      "text/plain": [
       "'Samet'"
      ]
     },
     "execution_count": 39,
     "metadata": {},
     "output_type": "execute_result"
    }
   ],
   "source": [
    "# Listedeki son elemana erişmek için liste_adı[-1] yapılır\n",
    "yeniliste[-1]"
   ]
  },
  {
   "cell_type": "code",
   "execution_count": 40,
   "metadata": {},
   "outputs": [
    {
     "data": {
      "text/plain": [
       "[19, 'Fatih', 'Tuğçe', 'Sena', 'Samet']"
      ]
     },
     "execution_count": 40,
     "metadata": {},
     "output_type": "execute_result"
    }
   ],
   "source": [
    "# Örnekler:\n",
    "# Belirlenen indeksten listenin sonuna kadar gitmek için\n",
    "yeniliste[2:] #2.indeksten sonuna kadar"
   ]
  },
  {
   "cell_type": "code",
   "execution_count": 41,
   "metadata": {},
   "outputs": [
    {
     "data": {
      "text/plain": [
       "[23, 6, 19, 'Fatih']"
      ]
     },
     "execution_count": 41,
     "metadata": {},
     "output_type": "execute_result"
    }
   ],
   "source": [
    "# Listenin başından belirli indexe gelmek için\n",
    "yeniliste[:4]"
   ]
  },
  {
   "cell_type": "code",
   "execution_count": 42,
   "metadata": {},
   "outputs": [
    {
     "data": {
      "text/plain": [
       "['Samet', 'Sena', 'Tuğçe', 'Fatih', 19, 6, 23]"
      ]
     },
     "execution_count": 42,
     "metadata": {},
     "output_type": "execute_result"
    }
   ],
   "source": [
    "# Listeyi tersten okumak için\n",
    "yeniliste[::-1]"
   ]
  },
  {
   "cell_type": "code",
   "execution_count": 43,
   "metadata": {},
   "outputs": [],
   "source": [
    "# Listeler en çok kullanılan veri saklama tiplerinden biridir"
   ]
  }
 ],
 "metadata": {
  "kernelspec": {
   "display_name": "Python 3",
   "language": "python",
   "name": "python3"
  },
  "language_info": {
   "codemirror_mode": {
    "name": "ipython",
    "version": 3
   },
   "file_extension": ".py",
   "mimetype": "text/x-python",
   "name": "python",
   "nbconvert_exporter": "python",
   "pygments_lexer": "ipython3",
   "version": "3.6.9"
  }
 },
 "nbformat": 4,
 "nbformat_minor": 2
}
