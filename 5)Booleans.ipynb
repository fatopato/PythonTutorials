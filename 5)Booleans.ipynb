{
 "cells": [
  {
   "cell_type": "markdown",
   "metadata": {},
   "source": [
    "# Boolean"
   ]
  },
  {
   "cell_type": "code",
   "execution_count": 2,
   "metadata": {},
   "outputs": [],
   "source": [
    "# Booleanlar mantıksal olarak  doğru ya da yanlış önermeleri içerirler\n",
    "# Yani a = 5 > 3 ifadesi doğru olduğundan True ifadesini tutarlar\n",
    "# Örnek olarak b = 3 < 1 ifadesi False olur\n",
    "# bool olarak ifade edilirler. Örn type(a) = bool dur"
   ]
  },
  {
   "cell_type": "code",
   "execution_count": 4,
   "metadata": {},
   "outputs": [
    {
     "name": "stdout",
     "output_type": "stream",
     "text": [
      "True\n"
     ]
    }
   ],
   "source": [
    "f = 4 < 10\n",
    "print(f)"
   ]
  },
  {
   "cell_type": "code",
   "execution_count": 6,
   "metadata": {},
   "outputs": [
    {
     "name": "stdout",
     "output_type": "stream",
     "text": [
      "False\n"
     ]
    }
   ],
   "source": [
    "# Yalnızca büyüktür küçüktür değil iki ifadenin eşitliğini de ölçebiliriz\n",
    "e = 4 == 5 # 4, 5'e eşitt olmadığından ifade False olur\n",
    "print(e)"
   ]
  },
  {
   "cell_type": "code",
   "execution_count": 8,
   "metadata": {},
   "outputs": [
    {
     "name": "stdout",
     "output_type": "stream",
     "text": [
      "45in boolean hali: True\n",
      "0'ın boolean hali: False\n"
     ]
    }
   ],
   "source": [
    "# Bazen boolean olarak mantıksal ifade yerine sayı, string ya da list vb gibi tiipler de kullanılır\n",
    "# sıfır haricindeki tüm sayılar True olur. Örneğin bool(56) = True olur ama bool(0) False olur\n",
    "print(\"45in boolean hali:\",bool(42))\n",
    "print(\"0'ın boolean hali:\",bool(0))"
   ]
  },
  {
   "cell_type": "code",
   "execution_count": 10,
   "metadata": {},
   "outputs": [
    {
     "name": "stdout",
     "output_type": "stream",
     "text": [
      "b'nin boolean hali: False c'nin boolean hali: True\n"
     ]
    }
   ],
   "source": [
    "# Aynı zamanda boş stringler dışında tüm stringler true döndürür\n",
    "b = \"\"\n",
    "c = \"fatih\"\n",
    "print(\"b'nin boolean hali:\",bool(b),\"c'nin boolean hali:\",bool(c))"
   ]
  },
  {
   "cell_type": "code",
   "execution_count": 11,
   "metadata": {},
   "outputs": [
    {
     "name": "stdout",
     "output_type": "stream",
     "text": [
      "l'nin boolean hali: True z'nin boolean hali: False\n"
     ]
    }
   ],
   "source": [
    "# Bir liste boş değilse True olur boş ise false olur\n",
    "l = [1,2,3]\n",
    "z = []\n",
    "print(\"l'nin boolean hali:\",bool(l),\"z'nin boolean hali:\",bool(z))"
   ]
  },
  {
   "cell_type": "code",
   "execution_count": null,
   "metadata": {},
   "outputs": [],
   "source": []
  }
 ],
 "metadata": {
  "kernelspec": {
   "display_name": "Python 3",
   "language": "python",
   "name": "python3"
  },
  "language_info": {
   "codemirror_mode": {
    "name": "ipython",
    "version": 3
   },
   "file_extension": ".py",
   "mimetype": "text/x-python",
   "name": "python",
   "nbconvert_exporter": "python",
   "pygments_lexer": "ipython3",
   "version": "3.6.9"
  }
 },
 "nbformat": 4,
 "nbformat_minor": 2
}
