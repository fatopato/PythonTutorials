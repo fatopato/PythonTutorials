{
 "cells": [
  {
   "cell_type": "markdown",
   "metadata": {},
   "source": [
    "# If Kullanımı"
   ]
  },
  {
   "cell_type": "code",
   "execution_count": 2,
   "metadata": {},
   "outputs": [],
   "source": [
    "# If: Eğer anlamındandır. Eğer bir mantıksal ifade doğru ise ne yapacağımızı bildiririz\n",
    "# Örnek if x>5: print(\"x 5ten büyüktür\")\n",
    "# Kullanımı if mantıksal_ifade: şeklindedir"
   ]
  },
  {
   "cell_type": "code",
   "execution_count": 7,
   "metadata": {},
   "outputs": [],
   "source": [
    "a = 5\n",
    "b = 4\n",
    "\n",
    "# a b'ye eşit olmadığından print fonksiyonu çalışmayacak\n",
    "if a == b: \n",
    "    print(\"a b'ye eşittir.\")\n"
   ]
  },
  {
   "cell_type": "code",
   "execution_count": 8,
   "metadata": {},
   "outputs": [
    {
     "name": "stdout",
     "output_type": "stream",
     "text": [
      "a b'ye eşit değildir.\n"
     ]
    }
   ],
   "source": [
    "# if genelde else ve elif ile beraber kullanılır\n",
    "# else if'in geçerli olmadığı durumu kapsar\n",
    "# Örnek if x>5 dediğimizde x 5ten büyük değilse else'te yazan fonksiyon devreye girer\n",
    "\n",
    "a = 5\n",
    "b = 4\n",
    "\n",
    "if a == b: \n",
    "    print(\"a b'ye eşittir.\")\n",
    "    \n",
    "else:\n",
    "    print(\"a b'ye eşit değildir.\")"
   ]
  },
  {
   "cell_type": "code",
   "execution_count": 9,
   "metadata": {},
   "outputs": [
    {
     "name": "stdout",
     "output_type": "stream",
     "text": [
      "x y'den büyüktür.\n"
     ]
    }
   ],
   "source": [
    "# else'in dışında else if anlamında kullanılan elif ifadesi de vardır\n",
    "# Şu şekilde kullanılır\n",
    "\n",
    "x = 23\n",
    "y = 6\n",
    "\n",
    "if x > y:     \n",
    "    print(\"x y'den büyüktür.\")\n",
    "\n",
    "elif x < y:\n",
    "    print(\"x y'den küçüktür.\")\n",
    "\n",
    "else:\n",
    "    print(\"x y'ye eşittir.\")\n",
    "    "
   ]
  },
  {
   "cell_type": "code",
   "execution_count": 10,
   "metadata": {},
   "outputs": [
    {
     "name": "stdout",
     "output_type": "stream",
     "text": [
      "x y'ye eşittir.\n"
     ]
    }
   ],
   "source": [
    "# Eğer if ifadesi yanlışsa elif ifadesine bakılır. Elif doğru ise o uygulanır\n",
    "# Elif de yanlış ise else uygulanır\n",
    "x = 23\n",
    "y = 23\n",
    "\n",
    "if x > y:     \n",
    "    print(\"x y'den büyüktür.\")\n",
    "\n",
    "elif x < y:\n",
    "    print(\"x y'den küçüktür.\")\n",
    "\n",
    "else:\n",
    "    print(\"x y'ye eşittir.\")\n"
   ]
  },
  {
   "cell_type": "code",
   "execution_count": 36,
   "metadata": {},
   "outputs": [
    {
     "name": "stdout",
     "output_type": "stream",
     "text": [
      "Wellcome\n"
     ]
    }
   ],
   "source": [
    "## Örnek soru\n",
    "# name: \"isim\"\n",
    "# yas: 25\n",
    "# Eğer isminiz \"Fatih\" ise ve yaşınız 25'ten büyükse print(\"You win\"). Değilse print(name, \"sizin yaşınız\", yas)\n",
    "\n",
    "name =\"Tuğçe\"\n",
    "yas = 23\n",
    "if name == \"Tuğçe\" and yas > 22:\n",
    "    print(\"You win\")\n",
    "    \n",
    "elif name == \"Tuğçe\":\n",
    "    print(\"Wellcome\")\n",
    "    \n",
    "else:\n",
    "    print(name, \"Sizin yaşınız\", yas)"
   ]
  }
 ],
 "metadata": {
  "kernelspec": {
   "display_name": "Python 3",
   "language": "python",
   "name": "python3"
  },
  "language_info": {
   "codemirror_mode": {
    "name": "ipython",
    "version": 3
   },
   "file_extension": ".py",
   "mimetype": "text/x-python",
   "name": "python",
   "nbconvert_exporter": "python",
   "pygments_lexer": "ipython3",
   "version": "3.6.9"
  }
 },
 "nbformat": 4,
 "nbformat_minor": 2
}
