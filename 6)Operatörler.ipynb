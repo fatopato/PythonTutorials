{
 "cells": [
  {
   "cell_type": "markdown",
   "metadata": {},
   "source": [
    "# Operatörler\n"
   ]
  },
  {
   "cell_type": "markdown",
   "metadata": {},
   "source": [
    "## Aritmetik Operatörler"
   ]
  },
  {
   "cell_type": "code",
   "execution_count": 3,
   "metadata": {},
   "outputs": [],
   "source": [
    "# Aritmetik  operatörler: basit artimetik işlemler için uygulanır\n",
    "# Matematiksel işlemler aritmetik operatörle yapılır\n",
    "# + - * / % // ** \n",
    "\n",
    "sayi_1 = 32\n",
    "sayi_2 = 3\n",
    "\n",
    "toplam = sayi_1 + sayi_2\n",
    "carpim = sayi_1 * sayi_2\n",
    "bolum = sayi_1 / sayi_2\n",
    "fark = sayi_1 - sayi_2\n",
    "\n",
    "mod = sayi_1 % sayi_2\n",
    "floor = sayi_1 // sayi_2\n",
    "üs = sayi_1 ** sayi_2"
   ]
  },
  {
   "cell_type": "code",
   "execution_count": 7,
   "metadata": {},
   "outputs": [
    {
     "name": "stdout",
     "output_type": "stream",
     "text": [
      "Toplam: 35 \n",
      "Çarpım: 96 \n",
      "Üs: 32768 \n",
      "Floor: 10 \n",
      "Mod: 2\n"
     ]
    }
   ],
   "source": [
    "# Tüm değerleri bastıralım\n",
    "print(\"Toplam:\",toplam,\"\\nÇarpım:\",carpim,\"\\nÜs:\",üs, \"\\nFloor:\",floor,\"\\nMod:\",mod)"
   ]
  },
  {
   "cell_type": "markdown",
   "metadata": {},
   "source": [
    "## Değer Atama Operatörleri"
   ]
  },
  {
   "cell_type": "code",
   "execution_count": 8,
   "metadata": {},
   "outputs": [
    {
     "name": "stdout",
     "output_type": "stream",
     "text": [
      "ilk hali 4\n",
      "ikinci hali 6\n"
     ]
    }
   ],
   "source": [
    "# Değer Atama Operatörleri\n",
    "# Bir değişkene değer atamak için kullanılan operatörlerdir\n",
    "# En basiti = dir\n",
    "x = 4        # x 4 değerini alır\n",
    "print(\"ilk hali\",x)\n",
    "x += 2       # x = x+2 yani x 4+2=6 olur\n",
    "print(\"ikinci hali\", x)"
   ]
  },
  {
   "cell_type": "code",
   "execution_count": 10,
   "metadata": {},
   "outputs": [
    {
     "name": "stdout",
     "output_type": "stream",
     "text": [
      "1\n"
     ]
    }
   ],
   "source": [
    "# Değer atama operatörleri + - * / gibi operatörler içerebilir\n",
    "# Örn x /= 4 dersek x = x/4 anlamındadır\n",
    "a = 3\n",
    "a %= 2 \n",
    "print(a)"
   ]
  },
  {
   "cell_type": "code",
   "execution_count": 11,
   "metadata": {},
   "outputs": [
    {
     "name": "stdout",
     "output_type": "stream",
     "text": [
      "68\n"
     ]
    }
   ],
   "source": [
    "# Bu durum tüm aritmetik operatörlerle kullanılabilir\n",
    "z = 34\n",
    "z *=2\n",
    "print(z)"
   ]
  },
  {
   "cell_type": "markdown",
   "metadata": {},
   "source": [
    "## Karşılaştırma Operatörleri"
   ]
  },
  {
   "cell_type": "code",
   "execution_count": 14,
   "metadata": {},
   "outputs": [
    {
     "name": "stdout",
     "output_type": "stream",
     "text": [
      "True\n"
     ]
    }
   ],
   "source": [
    "# İki değeri karşılaştırmak için kullanılır\n",
    "# Sonucu True ya da False olur\n",
    "# Örneğin d = 3 > 4 False veirr\n",
    "a = 3>=1 \n",
    "print(a)"
   ]
  },
  {
   "cell_type": "code",
   "execution_count": 19,
   "metadata": {},
   "outputs": [
    {
     "name": "stdout",
     "output_type": "stream",
     "text": [
      "False\n",
      "True\n"
     ]
    }
   ],
   "source": [
    "# İki değerin eşit olup olmadığını karşılaştırmak için == ve != kullanılır\n",
    "print(3 == 4) # False\n",
    "print(3 != 4) # True"
   ]
  },
  {
   "cell_type": "code",
   "execution_count": 17,
   "metadata": {},
   "outputs": [
    {
     "name": "stdout",
     "output_type": "stream",
     "text": [
      "True\n",
      "False\n"
     ]
    }
   ],
   "source": [
    "# İki değerin büyük eşit ya da küçük eşit olduğunu karşılaştırmak için >= ve <= kullanılır\n",
    "print(4 <= 7) # True\n",
    "print(4 >= 7) # False"
   ]
  },
  {
   "cell_type": "code",
   "execution_count": 18,
   "metadata": {},
   "outputs": [
    {
     "name": "stdout",
     "output_type": "stream",
     "text": [
      "True\n",
      "False\n"
     ]
    }
   ],
   "source": [
    "# İki değerin büyük ya da küçük olduğunu karşılaştırmak için > ve < kullanılır\n",
    "print(4 < 7) # True\n",
    "print(4 > 7) # False"
   ]
  },
  {
   "cell_type": "markdown",
   "metadata": {},
   "source": [
    "## Mantıksal Operatörler"
   ]
  },
  {
   "cell_type": "code",
   "execution_count": 21,
   "metadata": {},
   "outputs": [
    {
     "name": "stdout",
     "output_type": "stream",
     "text": [
      "True\n",
      "False\n",
      "False\n"
     ]
    }
   ],
   "source": [
    "# Mantıksal olarak işlem yapmak için kullanılır\n",
    "# and: ve anlamındadır ancak ve ancak iki ifade de True ise True değerini alır. Diğer türlü False olur\n",
    "print(True and True)                    # True\n",
    "print(False and True)                   # False\n",
    "print(True and True and True and False) # False"
   ]
  },
  {
   "cell_type": "code",
   "execution_count": 22,
   "metadata": {},
   "outputs": [
    {
     "name": "stdout",
     "output_type": "stream",
     "text": [
      "True\n",
      "False\n",
      "True\n"
     ]
    }
   ],
   "source": [
    "# or: veya anlamındadır. İfadelerden herhangi biri True ise True değerini alır. Sadece tek True yeterlidir\n",
    "print(False or True)                    # True\n",
    "print(False or False)                   # False\n",
    "print(False or True or False or False)  # True"
   ]
  },
  {
   "cell_type": "code",
   "execution_count": 25,
   "metadata": {},
   "outputs": [
    {
     "name": "stdout",
     "output_type": "stream",
     "text": [
      "True\n",
      "False\n"
     ]
    }
   ],
   "source": [
    "# not: değili anlamındadır. İfade True ise False yapar. False ise True yapar\n",
    "a = 3 > 2                               # True\n",
    "b = not a                               # False\n",
    "print(a)\n",
    "print(b)"
   ]
  },
  {
   "cell_type": "code",
   "execution_count": null,
   "metadata": {},
   "outputs": [],
   "source": []
  }
 ],
 "metadata": {
  "kernelspec": {
   "display_name": "Python 3",
   "language": "python",
   "name": "python3"
  },
  "language_info": {
   "codemirror_mode": {
    "name": "ipython",
    "version": 3
   },
   "file_extension": ".py",
   "mimetype": "text/x-python",
   "name": "python",
   "nbconvert_exporter": "python",
   "pygments_lexer": "ipython3",
   "version": "3.6.9"
  }
 },
 "nbformat": 4,
 "nbformat_minor": 2
}
