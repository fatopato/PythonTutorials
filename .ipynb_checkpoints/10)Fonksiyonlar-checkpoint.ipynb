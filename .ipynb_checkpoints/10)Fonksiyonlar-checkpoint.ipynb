{
 "cells": [
  {
   "cell_type": "markdown",
   "metadata": {},
   "source": [
    "# Fonsksiyonlar"
   ]
  },
  {
   "cell_type": "code",
   "execution_count": 51,
   "metadata": {},
   "outputs": [],
   "source": [
    "# Tekrar tekrar  kullanılan işlemler için tanımlanır"
   ]
  },
  {
   "cell_type": "code",
   "execution_count": 52,
   "metadata": {},
   "outputs": [],
   "source": [
    "x = 5\n",
    "x = x+3"
   ]
  },
  {
   "cell_type": "code",
   "execution_count": 53,
   "metadata": {},
   "outputs": [],
   "source": [
    "def uc_ekle(number):\n",
    "    print(number + 3)"
   ]
  },
  {
   "cell_type": "code",
   "execution_count": 54,
   "metadata": {},
   "outputs": [
    {
     "name": "stdout",
     "output_type": "stream",
     "text": [
      "11\n"
     ]
    },
    {
     "data": {
      "text/plain": [
       "8"
      ]
     },
     "execution_count": 54,
     "metadata": {},
     "output_type": "execute_result"
    }
   ],
   "source": [
    "uc_ekle(x)\n",
    "x"
   ]
  },
  {
   "cell_type": "code",
   "execution_count": 55,
   "metadata": {},
   "outputs": [],
   "source": [
    "# Fonksiyonlar iki çeşttir bir değer döndüren ve döndürmeyen\n",
    "# Değer döndüren gönderdiğimiz değişkeni değiştirip başka bir değişken gönderir\n",
    "# Döndürmeyen bir değer geri vermez"
   ]
  },
  {
   "cell_type": "code",
   "execution_count": 56,
   "metadata": {},
   "outputs": [],
   "source": [
    "def tek_mi(sayi):\n",
    "    sonuc = sayi % 2 == 1\n",
    "    return sonuc"
   ]
  },
  {
   "cell_type": "code",
   "execution_count": 57,
   "metadata": {},
   "outputs": [
    {
     "name": "stdout",
     "output_type": "stream",
     "text": [
      "True\n"
     ]
    }
   ],
   "source": [
    "x = 45\n",
    "a = tek_mi(x)\n",
    "print(a)"
   ]
  },
  {
   "cell_type": "code",
   "execution_count": 58,
   "metadata": {},
   "outputs": [],
   "source": [
    "# Return eden\n",
    "def karesini_al(number):\n",
    "    return number ** 2\n",
    "\n",
    "# Return etmeyip sadece yazdıran\n",
    "def karesini_al_dondurme(number):\n",
    "    print(number ** 2)"
   ]
  },
  {
   "cell_type": "code",
   "execution_count": 59,
   "metadata": {},
   "outputs": [
    {
     "name": "stdout",
     "output_type": "stream",
     "text": [
      "1521\n",
      "b'nin değeri None\n",
      "c'nin değeri 1521\n"
     ]
    }
   ],
   "source": [
    "a = 39\n",
    "b = karesini_al_dondurme(a)\n",
    "print(\"b'nin değeri\", b)\n",
    "c = karesini_al(a)\n",
    "print(\"c'nin değeri\", c)"
   ]
  },
  {
   "cell_type": "code",
   "execution_count": 60,
   "metadata": {},
   "outputs": [],
   "source": [
    "# İsimdeki harf sayısını veren fonksiyon\n",
    "def harf_sayisi_bul(isim):\n",
    "    harf_saiyisi = len(isim)\n",
    "    return harf_saiyisi\n",
    "\n",
    "def harf_sayisi_bul_x(isim):\n",
    "    harf_saiyisi = len(isim)\n",
    "    print (harf_saiyisi)"
   ]
  },
  {
   "cell_type": "code",
   "execution_count": 61,
   "metadata": {},
   "outputs": [],
   "source": [
    "# Yaş bulan fonksiyon\n",
    "def yas_bulma(dogum_tarihi):\n",
    "    yas = 2020 - dogum_tarihi\n",
    "    return yas\n",
    "\n",
    "def yas_bulma_x(dogum_tarihi):\n",
    "    yas = 2020 - dogum_tarihi\n",
    "    print(yas)"
   ]
  },
  {
   "cell_type": "code",
   "execution_count": 62,
   "metadata": {},
   "outputs": [
    {
     "name": "stdout",
     "output_type": "stream",
     "text": [
      "Lütfen isminizi giriniz:dsf\n",
      "Doğum yılınız:1111\n",
      "Harf sayınız ve yasınızın toplamı: 914\n"
     ]
    }
   ],
   "source": [
    "# Kullancıdan ismini ve doğum yılını alıp, yaşı ile ismindeki harf sayısıı topalyıp söyleyelim\n",
    "name = input(\"Lütfen isminizi giriniz:\")\n",
    "birth_year = int(input(\"Doğum yılınız:\"))\n",
    "harf_sayısı = harf_sayisi_bul(name)\n",
    "yas = yas_bulma(birth_year)\n",
    "toplam = harf_sayisi + yas\n",
    "print(\"Harf sayınız ve yasınızın toplamı:\",toplam)"
   ]
  },
  {
   "cell_type": "code",
   "execution_count": 63,
   "metadata": {},
   "outputs": [
    {
     "name": "stdout",
     "output_type": "stream",
     "text": [
      "While başlasın\n",
      "While bitti kardeşim, çünkü i:  0\n"
     ]
    }
   ],
   "source": [
    "# While kısaca\n",
    "# While bir döngüdür. belirtilen şart sağlandığı sürece devam eder\n",
    "i = 0\n",
    "print(\"While başlasın\")\n",
    "while False:\n",
    "    print(i)\n",
    "    i+=1\n",
    "print(\"While bitti kardeşim, çünkü i: \", i)"
   ]
  },
  {
   "cell_type": "code",
   "execution_count": 64,
   "metadata": {},
   "outputs": [],
   "source": [
    "# Falcı uygulaması\n",
    "# Kullanıcıdan alınacak değerler: doğum yılını, ismini, ayakkabı numarası\n",
    "# Kullanıcya verilcek değerler bir hafta içinde başına gelecekler"
   ]
  },
  {
   "cell_type": "code",
   "execution_count": 65,
   "metadata": {},
   "outputs": [],
   "source": [
    "olaylar_listesi = ['Annen bayılacak', 'Güzel bir haber alacaksın', 'En sevdiğin kişi arayacak', 'Araba çarpacak'\n",
    "                  ,'Baban sana kızacak', 'Çay ağzını yakacak', 'Çok sinirleneceksin', 'Büyük para gelecek'\n",
    "                  ,'Yola gideceksin', 'Sağlığına dikkat et', 'İş durumun netleşecek', 'Baş ağrısı yaşayabilirsin']"
   ]
  },
  {
   "cell_type": "code",
   "execution_count": 68,
   "metadata": {},
   "outputs": [],
   "source": [
    "# Tahminci\n",
    "def tahmin_et(dogum_yili, isim, ayakkabı_no):\n",
    "    import random\n",
    "    yas = yas_bulma(dogum_yili)\n",
    "    harf_sayısı = harf_sayisi_bul(isim)\n",
    "    toplam = yas + harf_sayisi + ayakkabı_no\n",
    "    olay = olaylar_listesi[toplam % random.randrange(0,12)]\n",
    "    return olay\n",
    "    "
   ]
  },
  {
   "cell_type": "code",
   "execution_count": 69,
   "metadata": {},
   "outputs": [
    {
     "name": "stdout",
     "output_type": "stream",
     "text": [
      "-----------Falcıya Hoşgeldiniz---------\n",
      "Önümüzdeki hafta içinde başınıza gelecek bir olayı tahmin edeceğiz..\n",
      "Doğum yılınız: 1212\n",
      "İsminiz: dadas\n",
      "Ayakkabı numaranız: 121\n",
      "Başınıza gelecekler: Araba çarpacak\n"
     ]
    }
   ],
   "source": [
    "print(\"-----------Falcıya Hoşgeldiniz---------\")\n",
    "print(\"Önümüzdeki hafta içinde başınıza gelecek bir olayı tahmin edeceğiz..\")\n",
    "birt_year = int(input(\"Doğum yılınız: \"))\n",
    "name = input(\"İsminiz: \")\n",
    "no = int(input(\"Ayakkabı numaranız: \"))\n",
    "print(\"Başınıza gelecekler:\",tahmin_et(birt_year, name, no))"
   ]
  }
 ],
 "metadata": {
  "kernelspec": {
   "display_name": "Python 3",
   "language": "python",
   "name": "python3"
  },
  "language_info": {
   "codemirror_mode": {
    "name": "ipython",
    "version": 3
   },
   "file_extension": ".py",
   "mimetype": "text/x-python",
   "name": "python",
   "nbconvert_exporter": "python",
   "pygments_lexer": "ipython3",
   "version": "3.6.9"
  }
 },
 "nbformat": 4,
 "nbformat_minor": 2
}
