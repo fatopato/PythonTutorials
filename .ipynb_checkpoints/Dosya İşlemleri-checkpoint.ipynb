{
 "cells": [
  {
   "cell_type": "code",
   "execution_count": 8,
   "metadata": {},
   "outputs": [],
   "source": [
    "with open(\"words.txt\", \"r\") as file:\n",
    "    word_list = file.readlines()"
   ]
  },
  {
   "cell_type": "code",
   "execution_count": 9,
   "metadata": {},
   "outputs": [],
   "source": [
    "clean_word_list = []\n",
    "\n",
    "for word in word_list:\n",
    "    clean_word = word.strip()\n",
    "    clean_word_list.append(clean_word)"
   ]
  },
  {
   "cell_type": "code",
   "execution_count": 10,
   "metadata": {
    "scrolled": true
   },
   "outputs": [
    {
     "data": {
      "text/plain": [
       "['investigate',\n",
       " 'suspect',\n",
       " 'quiet',\n",
       " 'competition',\n",
       " 'presume',\n",
       " 'reduce',\n",
       " 'treatment',\n",
       " 'salvation',\n",
       " 'soul',\n",
       " 'firm',\n",
       " 'bandit',\n",
       " 'represent',\n",
       " 'throne',\n",
       " 'proper',\n",
       " 'waste',\n",
       " 'interrupt',\n",
       " 'admire',\n",
       " 'audience',\n",
       " 'arch',\n",
       " 'defence',\n",
       " 'identical',\n",
       " 'bud',\n",
       " 'significant',\n",
       " 'astaund',\n",
       " 'indimidate',\n",
       " 'eternity',\n",
       " 'exile',\n",
       " 'compotent',\n",
       " 'gain',\n",
       " 'affect',\n",
       " 'stubborn',\n",
       " 'hesitate',\n",
       " 'ripe',\n",
       " 'exception',\n",
       " 'measure',\n",
       " 'justice',\n",
       " 'baffle',\n",
       " 'violate',\n",
       " 'occupy',\n",
       " 'clash',\n",
       " 'innocence',\n",
       " 'crew',\n",
       " 'recognize',\n",
       " 'flow',\n",
       " 'response',\n",
       " 'accuse',\n",
       " 'flight',\n",
       " 'commit',\n",
       " 'jail',\n",
       " 'tool',\n",
       " 'cop',\n",
       " 'request',\n",
       " 'appreciate',\n",
       " 'identify',\n",
       " 'owner',\n",
       " 'drain',\n",
       " 'myth',\n",
       " 'confirm',\n",
       " 'introduce',\n",
       " 'unit',\n",
       " 'collect',\n",
       " 'candidate',\n",
       " 'authority',\n",
       " 'crowd',\n",
       " 'crash',\n",
       " 'trick',\n",
       " 'injury',\n",
       " 'supply',\n",
       " 'blame',\n",
       " 'weak',\n",
       " 'drag',\n",
       " 'lack',\n",
       " 'respond',\n",
       " 'society',\n",
       " 'investment',\n",
       " 'storm',\n",
       " 'load',\n",
       " 'agent',\n",
       " 'stream',\n",
       " 'apply',\n",
       " 'belong',\n",
       " 'raw',\n",
       " 'precious']"
      ]
     },
     "execution_count": 10,
     "metadata": {},
     "output_type": "execute_result"
    }
   ],
   "source": [
    "clean_word_list"
   ]
  },
  {
   "cell_type": "code",
   "execution_count": 11,
   "metadata": {},
   "outputs": [],
   "source": [
    "from googletrans import Translator\n",
    "\n",
    "def translate(word):\n",
    "    cevirmen = Translator()\n",
    "    ceviri = cevirmen.translate(word, dest=\"tr\", src=\"en\").text\n",
    "    return ceviri"
   ]
  },
  {
   "cell_type": "code",
   "execution_count": 17,
   "metadata": {},
   "outputs": [],
   "source": [
    "clean_word_list[23] = \"astound\"\n",
    "turkish_word_list = []\n",
    "\n",
    "for i in clean_word_list:\n",
    "    zurna = translate(i)\n",
    "    turkish_word_list.append(zurna)"
   ]
  },
  {
   "cell_type": "code",
   "execution_count": 24,
   "metadata": {
    "scrolled": true
   },
   "outputs": [
    {
     "data": {
      "text/plain": [
       "['incelemek',\n",
       " 'şüpheli',\n",
       " 'sessiz',\n",
       " 'yarışma',\n",
       " 'presume',\n",
       " 'azaltmak',\n",
       " 'tedavi',\n",
       " 'kurtuluş',\n",
       " 'ruh',\n",
       " 'firma',\n",
       " 'eşkıya',\n",
       " 'temsil etmek',\n",
       " 'taht',\n",
       " 'uygun',\n",
       " 'atık',\n",
       " 'kesmek',\n",
       " 'beğenmek',\n",
       " 'seyirci',\n",
       " 'kemer',\n",
       " 'savunma',\n",
       " 'özdeş',\n",
       " 'tomurcuk',\n",
       " 'önemli',\n",
       " 'astound',\n",
       " 'yıldırmak',\n",
       " 'sonsuzluk',\n",
       " 'sürgün',\n",
       " 'yetkili',\n",
       " 'kazanç',\n",
       " 'etkilemek',\n",
       " 'inatçı',\n",
       " 'tereddüt',\n",
       " 'olgun',\n",
       " 'istisna',\n",
       " 'tedbir',\n",
       " 'adalet',\n",
       " 'bölme',\n",
       " 'ihlal etmek',\n",
       " 'işgal etmek',\n",
       " 'çatışma',\n",
       " 'saflık',\n",
       " 'mürettebat',\n",
       " 'tanımak',\n",
       " 'akış',\n",
       " 'tepki',\n",
       " 'suçlamak',\n",
       " 'uçuş',\n",
       " 'işlemek',\n",
       " 'hapis',\n",
       " 'araç',\n",
       " 'polis',\n",
       " 'istek',\n",
       " 'takdir etmek',\n",
       " 'belirlemek',\n",
       " 'sahip',\n",
       " 'tahliye',\n",
       " 'efsane',\n",
       " 'onaylamak',\n",
       " 'takdim etmek',\n",
       " 'birim',\n",
       " 'toplamak',\n",
       " 'aday',\n",
       " 'yetki',\n",
       " 'kalabalık',\n",
       " 'kaza',\n",
       " 'hile',\n",
       " 'yaralanma',\n",
       " 'arz',\n",
       " 'suçlama',\n",
       " 'güçsüz',\n",
       " 'sürüklemek',\n",
       " 'eksiklik',\n",
       " 'cevap vermek',\n",
       " 'toplum',\n",
       " 'yatırım',\n",
       " 'fırtına',\n",
       " 'yük',\n",
       " 'ajan',\n",
       " 'Akış',\n",
       " 'uygulamak',\n",
       " 'ait olmak',\n",
       " 'çiğ',\n",
       " 'değerli']"
      ]
     },
     "execution_count": 24,
     "metadata": {},
     "output_type": "execute_result"
    }
   ],
   "source": [
    "turkish_word_list"
   ]
  },
  {
   "cell_type": "code",
   "execution_count": 20,
   "metadata": {},
   "outputs": [],
   "source": [
    "import random"
   ]
  },
  {
   "cell_type": "code",
   "execution_count": 53,
   "metadata": {},
   "outputs": [],
   "source": [
    "def soru_sor(words):\n",
    "    soru = random.choice(words)\n",
    "    return soru"
   ]
  },
  {
   "cell_type": "code",
   "execution_count": 66,
   "metadata": {},
   "outputs": [],
   "source": [
    "def cevap_al(kelime):\n",
    "    cevap = input(kelime + \": \")\n",
    "    return cevap"
   ]
  },
  {
   "cell_type": "code",
   "execution_count": 74,
   "metadata": {},
   "outputs": [
    {
     "name": "stdout",
     "output_type": "stream",
     "text": [
      "appreciate: değer bilmek\n"
     ]
    }
   ],
   "source": [
    "ilk_soru = soru_sor(clean_word_list)\n",
    "\n",
    "ilk_cevap = cevap_al(ilk_soru)\n",
    "\n",
    "def cevap_dogru_mu(soru, cevap):\n",
    "    sorunun_indexi = clean_word_list.index(soru)\n",
    "    asil_cevap = turkish_word_list[sorunun_indexi]\n",
    "    isTrue = asil_cevap == cevap\n",
    "    if isTrue:\n",
    "        return \"Helal Gardaşıma\"\n",
    "    else:\n",
    "        return asil_cevap"
   ]
  },
  {
   "cell_type": "code",
   "execution_count": 75,
   "metadata": {},
   "outputs": [
    {
     "name": "stdout",
     "output_type": "stream",
     "text": [
      "represent: sözcü\n"
     ]
    },
    {
     "data": {
      "text/plain": [
       "'temsil etmek'"
      ]
     },
     "execution_count": 75,
     "metadata": {},
     "output_type": "execute_result"
    }
   ],
   "source": [
    "soru_asdsad = soru_sor(clean_word_list)\n",
    "cevap_zxcxzcz = cevap_al(soru_asdsad)\n",
    "cevap_dogru_mu(soru_asdsad, cevap_zxcxzcz)"
   ]
  },
  {
   "cell_type": "code",
   "execution_count": 90,
   "metadata": {},
   "outputs": [],
   "source": [
    "def new_question():\n",
    "    soru = random.choice(clean_word_list)\n",
    "    sorunun_indexi = clean_word_list.index(soru)\n",
    "    asil_cevap = turkish_word_list[sorunun_indexi]\n",
    "    other_choices = random.sample(turkish_word_list, 3)    \n",
    "    other_choices.append(asil_cevap)\n",
    "    random.shuffle(other_choices)\n",
    "    print(\"What is the meaning of\", soru, \"\\n\")\n",
    "    chars = [\"A\", \"B\", \"C\", \"D\"]\n",
    "    for i in range(len(chars)):\n",
    "        print(chars[i]+\"-)\", other_choices[i])\n",
    "    \n",
    "    cevap = input(\"\")\n",
    "    cevap = cevap.upper()\n",
    "    \n",
    "    ind = chars.index(cevap)\n",
    "    \n",
    "    gelen_cevap = other_choices[ind]\n",
    "    \n",
    "    if asil_cevap == gelen_cevap:\n",
    "        print(\"Correct!!\")\n",
    "    else:\n",
    "        print(\"Wrong!! The answer was:\", asil_cevap)\n",
    "    \n",
    "    "
   ]
  },
  {
   "cell_type": "code",
   "execution_count": 91,
   "metadata": {},
   "outputs": [
    {
     "name": "stdout",
     "output_type": "stream",
     "text": [
      "What is the meaning of affect \n",
      "\n",
      "A-) kesmek\n",
      "B-) toplum\n",
      "C-) etkilemek\n",
      "D-) suçlama\n",
      "c\n"
     ]
    },
    {
     "ename": "ValueError",
     "evalue": "'c' is not in list",
     "output_type": "error",
     "traceback": [
      "\u001b[0;31m---------------------------------------------------------------------------\u001b[0m",
      "\u001b[0;31mValueError\u001b[0m                                Traceback (most recent call last)",
      "\u001b[0;32m<ipython-input-91-ff01be5ba6af>\u001b[0m in \u001b[0;36m<module>\u001b[0;34m\u001b[0m\n\u001b[0;32m----> 1\u001b[0;31m \u001b[0mnew_question\u001b[0m\u001b[0;34m(\u001b[0m\u001b[0;34m)\u001b[0m\u001b[0;34m\u001b[0m\u001b[0;34m\u001b[0m\u001b[0m\n\u001b[0m",
      "\u001b[0;32m<ipython-input-90-eed12d9dc56f>\u001b[0m in \u001b[0;36mnew_question\u001b[0;34m()\u001b[0m\n\u001b[1;32m     14\u001b[0m     \u001b[0mcevap\u001b[0m \u001b[0;34m=\u001b[0m \u001b[0mcevap\u001b[0m\u001b[0;34m.\u001b[0m\u001b[0mlower\u001b[0m\u001b[0;34m(\u001b[0m\u001b[0;34m)\u001b[0m\u001b[0;34m\u001b[0m\u001b[0;34m\u001b[0m\u001b[0m\n\u001b[1;32m     15\u001b[0m \u001b[0;34m\u001b[0m\u001b[0m\n\u001b[0;32m---> 16\u001b[0;31m     \u001b[0mind\u001b[0m \u001b[0;34m=\u001b[0m \u001b[0mchars\u001b[0m\u001b[0;34m.\u001b[0m\u001b[0mindex\u001b[0m\u001b[0;34m(\u001b[0m\u001b[0mcevap\u001b[0m\u001b[0;34m)\u001b[0m\u001b[0;34m\u001b[0m\u001b[0;34m\u001b[0m\u001b[0m\n\u001b[0m\u001b[1;32m     17\u001b[0m \u001b[0;34m\u001b[0m\u001b[0m\n\u001b[1;32m     18\u001b[0m     \u001b[0mgelen_cevap\u001b[0m \u001b[0;34m=\u001b[0m \u001b[0mother_choices\u001b[0m\u001b[0;34m[\u001b[0m\u001b[0mind\u001b[0m\u001b[0;34m]\u001b[0m\u001b[0;34m\u001b[0m\u001b[0;34m\u001b[0m\u001b[0m\n",
      "\u001b[0;31mValueError\u001b[0m: 'c' is not in list"
     ]
    }
   ],
   "source": [
    "new_question()"
   ]
  }
 ],
 "metadata": {
  "kernelspec": {
   "display_name": "Python 3",
   "language": "python",
   "name": "python3"
  }
 },
 "nbformat": 4,
 "nbformat_minor": 2
}
