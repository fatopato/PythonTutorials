{
 "cells": [
  {
   "cell_type": "code",
   "execution_count": 1,
   "metadata": {},
   "outputs": [],
   "source": [
    "# Kalıtım bi üst class'tan aynı özelliklere sahip başka bir class oluşturmadır"
   ]
  },
  {
   "cell_type": "code",
   "execution_count": 2,
   "metadata": {},
   "outputs": [],
   "source": [
    "class Araba:\n",
    "    \n",
    "    def __init__(self,uretici,model, yıl, guc=70):\n",
    "        self.uretici = uretici\n",
    "        self.model = model\n",
    "        self.yıl = yıl\n",
    "        self.guc = guc\n",
    "        \n",
    "    def __str__(self):\n",
    "        return \"Araba: {} - {}, {}\".format(self.uretici, self.model, self.yıl)\n",
    "    "
   ]
  },
  {
   "cell_type": "code",
   "execution_count": 4,
   "metadata": {},
   "outputs": [
    {
     "name": "stdout",
     "output_type": "stream",
     "text": [
      "Araba: Hyundai - Getz, 2004\n"
     ]
    }
   ],
   "source": [
    "arab1 = Araba(\"Hyundai\", \"Getz\", 2004, 90)\n",
    "print(arab1)"
   ]
  },
  {
   "cell_type": "code",
   "execution_count": 5,
   "metadata": {},
   "outputs": [],
   "source": [
    "class FormulaAraba(Araba):\n",
    "    pass"
   ]
  },
  {
   "cell_type": "code",
   "execution_count": 8,
   "metadata": {},
   "outputs": [
    {
     "name": "stdout",
     "output_type": "stream",
     "text": [
      "Araba: Ferrari - F30, 2012\n"
     ]
    }
   ],
   "source": [
    "fcar = FormulaAraba(\"Ferrari\", \"F30\", 2012, 400)\n",
    "print(fcar)"
   ]
  },
  {
   "cell_type": "code",
   "execution_count": 24,
   "metadata": {},
   "outputs": [],
   "source": [
    "class FormulaAraba(Araba):\n",
    "    \n",
    "    def __init__(self, uretici, model, yıl, kazandığı_yaris_sayisi, guc=200, fren_sistemi=\"ABS\", motor_cinsi=\"Benzinli\", teker_cinsi=\"YAZ\"):\n",
    "        super().__init__(uretici=uretici, model=model, yıl=yıl, guc=guc)\n",
    "        self.fren_sistemi = fren_sistemi\n",
    "        self.motor_cinsi = motor_cinsi\n",
    "        self.teker_cinsi = teker_cinsi\n",
    "        self.kazandığı_yaris_sayisi = kazandığı_yaris_sayisi\n",
    "        print(\"Formula arabası olusturuldu...\")\n",
    "    \n",
    "    def __str__(self):\n",
    "        return \"Araba: {} - {}, {}\".format(self.uretici, self.model, self.yıl)\n",
    "        \n",
    "    \n"
   ]
  },
  {
   "cell_type": "code",
   "execution_count": 25,
   "metadata": {},
   "outputs": [
    {
     "name": "stdout",
     "output_type": "stream",
     "text": [
      "Formula arabası olusturuldu...\n",
      "Araba: Porche - Cayenne, 2019\n"
     ]
    }
   ],
   "source": [
    "formula_car = FormulaAraba(uretici=\"Porche\", model=\"Cayenne\", yıl=2019, kazandığı_yaris_sayisi=1, guc=432, fren_sistemi=\"CRS\")\n",
    "print(formula_car)"
   ]
  }
 ],
 "metadata": {
  "kernelspec": {
   "display_name": "Python 3",
   "language": "python",
   "name": "python3"
  },
  "language_info": {
   "codemirror_mode": {
    "name": "ipython",
    "version": 3
   },
   "file_extension": ".py",
   "mimetype": "text/x-python",
   "name": "python",
   "nbconvert_exporter": "python",
   "pygments_lexer": "ipython3",
   "version": "3.6.9"
  }
 },
 "nbformat": 4,
 "nbformat_minor": 2
}
