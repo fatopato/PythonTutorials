{
 "cells": [
  {
   "cell_type": "code",
   "execution_count": 1,
   "metadata": {},
   "outputs": [
    {
     "name": "stdout",
     "output_type": "stream",
     "text": [
      "4\n"
     ]
    }
   ],
   "source": [
    "# Farklı veri tiplerinden birbine dönüşüm yapılabilir\n",
    "# Örneğin int bir değeri floata dönüştürmek için float(deger) yapaibliriz\n",
    "x = 4\n",
    "print(x)"
   ]
  },
  {
   "cell_type": "code",
   "execution_count": 3,
   "metadata": {},
   "outputs": [
    {
     "name": "stdout",
     "output_type": "stream",
     "text": [
      "4.0\n"
     ]
    }
   ],
   "source": [
    "x = float(x)\n",
    "print(x)"
   ]
  },
  {
   "cell_type": "code",
   "execution_count": 8,
   "metadata": {},
   "outputs": [
    {
     "name": "stdout",
     "output_type": "stream",
     "text": [
      "3 <class 'str'>\n",
      "3 <class 'int'>\n"
     ]
    }
   ],
   "source": [
    "# String bi değerden int ve ya floata geçiş yapılabilir ama değer sadece sayı içermelidir\n",
    "s = \"3\"\n",
    "print(s, type(s))\n",
    "y = int(s)\n",
    "print(y, type(y)) "
   ]
  },
  {
   "cell_type": "code",
   "execution_count": 10,
   "metadata": {},
   "outputs": [
    {
     "name": "stdout",
     "output_type": "stream",
     "text": [
      "7.5\n"
     ]
    }
   ],
   "source": [
    "# int ve ya float bir değerden stringe geçmek için str(deger) kullanılır\n",
    "a = 4       #int\n",
    "f = 3.5     #float\n",
    "print(a + f) "
   ]
  },
  {
   "cell_type": "code",
   "execution_count": 12,
   "metadata": {},
   "outputs": [
    {
     "name": "stdout",
     "output_type": "stream",
     "text": [
      "43.5\n"
     ]
    }
   ],
   "source": [
    "a = str(a)   #string\n",
    "f = str(f)   #string\n",
    "print(a+f)   #\"4\"+\"3.5\" =\"43.5\" "
   ]
  },
  {
   "cell_type": "code",
   "execution_count": 14,
   "metadata": {},
   "outputs": [
    {
     "name": "stdout",
     "output_type": "stream",
     "text": [
      "3\n"
     ]
    }
   ],
   "source": [
    "# floattan inte geçerken int() kullanılır. Virgülden sonrası ne olursa olsun atılır\n",
    "# Örnek: int(3.5) = 3 olur\n",
    "print(int(3.53532))"
   ]
  },
  {
   "cell_type": "code",
   "execution_count": 16,
   "metadata": {},
   "outputs": [
    {
     "name": "stdout",
     "output_type": "stream",
     "text": [
      "12345.0\n"
     ]
    }
   ],
   "source": [
    "# intten floata geçerken float() kullanılır. Değerin sonuna .0 eklenir\n",
    "# Örnek: float(45) = 45.0\n",
    "print(float(12345))"
   ]
  },
  {
   "cell_type": "code",
   "execution_count": 18,
   "metadata": {},
   "outputs": [
    {
     "name": "stdout",
     "output_type": "stream",
     "text": [
      "Yaş 35 yolun yarısı eder\n"
     ]
    }
   ],
   "source": [
    "# String bir değer ile int veya float değer toplanamaz. Stringe çevirmek gerekir\n",
    "# print(\"Benim yaşım: \" + 23) hata verir onun yerine\n",
    "# print(\"Benim yaşım: \" + str(23)) demeliyiz\n",
    "yas = 35\n",
    "# print(\"Yaş \" + yas + \" yolun yarısı eder\") hatalıdır\n",
    "print(\"Yaş \" + str(yas) + \" yolun yarısı eder\")"
   ]
  }
 ],
 "metadata": {
  "kernelspec": {
   "display_name": "Python 3",
   "language": "python",
   "name": "python3"
  },
  "language_info": {
   "codemirror_mode": {
    "name": "ipython",
    "version": 3
   },
   "file_extension": ".py",
   "mimetype": "text/x-python",
   "name": "python",
   "nbconvert_exporter": "python",
   "pygments_lexer": "ipython3",
   "version": "3.6.9"
  }
 },
 "nbformat": 4,
 "nbformat_minor": 2
}
