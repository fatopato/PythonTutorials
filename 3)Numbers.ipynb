{
 "cells": [
  {
   "cell_type": "code",
   "execution_count": 1,
   "metadata": {},
   "outputs": [],
   "source": [
    "# Python 3 farklı sayı tipinden oluşur\n",
    "# int: Tamsayılar\n",
    "# float: Noktalı sayılar\n",
    "# complex : Karmaşık sayılar"
   ]
  },
  {
   "cell_type": "code",
   "execution_count": 2,
   "metadata": {},
   "outputs": [],
   "source": [
    "# Tam sayılar\n",
    "# Eksi veya artı değer alabilir\n",
    "# Uzunluk limiti yoktur.."
   ]
  },
  {
   "cell_type": "code",
   "execution_count": 4,
   "metadata": {},
   "outputs": [],
   "source": [
    "x = 5\n",
    "y = -567\n",
    "z = 12345678909"
   ]
  },
  {
   "cell_type": "code",
   "execution_count": 5,
   "metadata": {},
   "outputs": [],
   "source": [
    "# Noktalı sayılar\n",
    "# Artı ya da eksi olabilrler\n",
    "# e içerebilirler. 10 üssü anlamında kullanılır \n",
    "# örn: 3e2 = 3x10^2 yani 300 olur"
   ]
  },
  {
   "cell_type": "code",
   "execution_count": 6,
   "metadata": {},
   "outputs": [],
   "source": [
    "a = 3.0\n",
    "b = -5.76\n",
    "c = 3e-8"
   ]
  },
  {
   "cell_type": "code",
   "execution_count": 7,
   "metadata": {},
   "outputs": [],
   "source": [
    "# Karmaşık sayılar\n",
    "# Reel ve sanal kısımlardan oluşur\n",
    "# Sanal kısım j ile gösterilir"
   ]
  },
  {
   "cell_type": "code",
   "execution_count": 8,
   "metadata": {},
   "outputs": [],
   "source": [
    "d = 3+4j\n",
    "e = 5-12j\n",
    "f = -6j"
   ]
  },
  {
   "cell_type": "markdown",
   "metadata": {},
   "source": [
    "## Tip Dönüştürme"
   ]
  },
  {
   "cell_type": "code",
   "execution_count": 10,
   "metadata": {},
   "outputs": [],
   "source": [
    "# Farklı sayı tipleri arasında dönüşüm yapılabilr\n",
    "# Örn x=5.0 bir floattur. a = int(x) dersek a = 5 olur ve tipi inttir"
   ]
  },
  {
   "cell_type": "code",
   "execution_count": 11,
   "metadata": {},
   "outputs": [
    {
     "name": "stdout",
     "output_type": "stream",
     "text": [
      "Float olan a: 3.0\n",
      "Integer olan a: 3\n"
     ]
    }
   ],
   "source": [
    "print(\"Float olan a:\", a)\n",
    "print(\"Integer olan a:\",int(a) )"
   ]
  },
  {
   "cell_type": "code",
   "execution_count": 15,
   "metadata": {},
   "outputs": [],
   "source": [
    "# Karmaşık sayılar başka türe dönüştürülmez çünkü sanal kısımları vardır\n",
    "#a = int(3+4j) hata verir"
   ]
  },
  {
   "cell_type": "markdown",
   "metadata": {},
   "source": [
    "## Rastgele Sayılar"
   ]
  },
  {
   "cell_type": "code",
   "execution_count": 17,
   "metadata": {},
   "outputs": [],
   "source": [
    "# Rastgele sayı elde etmek için öncelikle random modulü eklenir\n",
    "import random"
   ]
  },
  {
   "cell_type": "code",
   "execution_count": 18,
   "metadata": {},
   "outputs": [],
   "source": [
    "# Herhangi iki sınır arasında rastgele sayı elde etmek için\n",
    "# random kütüphanesindeki randrange fonksiyonu kullanılır\n",
    "# Örnek random.randrange(1,10)  1 ile 10 arasında sayı verir 10 sayılara dahil değildir"
   ]
  },
  {
   "cell_type": "code",
   "execution_count": 113,
   "metadata": {},
   "outputs": [
    {
     "data": {
      "text/plain": [
       "22"
      ]
     },
     "execution_count": 113,
     "metadata": {},
     "output_type": "execute_result"
    }
   ],
   "source": [
    "# sayi adında bir değişken tanımlayalım. Rastgele değer atayalım\n",
    "sayi = random.randrange(0,100)\n",
    "sayi"
   ]
  },
  {
   "cell_type": "code",
   "execution_count": 114,
   "metadata": {},
   "outputs": [
    {
     "data": {
      "text/plain": [
       "89"
      ]
     },
     "execution_count": 114,
     "metadata": {},
     "output_type": "execute_result"
    }
   ],
   "source": [
    "# 1 ile 100 arası rastgele tek sayi\n",
    "sayi = random.randrange(1,100,2)\n",
    "sayi"
   ]
  },
  {
   "cell_type": "code",
   "execution_count": 130,
   "metadata": {},
   "outputs": [
    {
     "data": {
      "text/plain": [
       "66"
      ]
     },
     "execution_count": 130,
     "metadata": {},
     "output_type": "execute_result"
    }
   ],
   "source": [
    "# 0 ile 100 arası rastgele çift sayi\n",
    "sayi = random.randrange(0,100,11)\n",
    "sayi"
   ]
  }
 ],
 "metadata": {
  "kernelspec": {
   "display_name": "Python 3",
   "language": "python",
   "name": "python3"
  },
  "language_info": {
   "codemirror_mode": {
    "name": "ipython",
    "version": 3
   },
   "file_extension": ".py",
   "mimetype": "text/x-python",
   "name": "python",
   "nbconvert_exporter": "python",
   "pygments_lexer": "ipython3",
   "version": "3.6.9"
  }
 },
 "nbformat": 4,
 "nbformat_minor": 2
}
