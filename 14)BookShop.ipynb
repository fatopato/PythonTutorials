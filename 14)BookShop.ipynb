{
 "cells": [
  {
   "cell_type": "code",
   "execution_count": 13,
   "metadata": {},
   "outputs": [],
   "source": [
    "\"\"\"\n",
    "Book:\n",
    "adı,\n",
    "yazar\n",
    "sayfa sayısı\n",
    "yütü\n",
    "fiyat\n",
    "\"\"\"\n",
    "class Book:\n",
    "    genre = ''\n",
    "    price = 10\n",
    "    def __init__(self, name, author, page):\n",
    "        self.name = name\n",
    "        self.author = author\n",
    "        self.page = page\n",
    "        \n",
    "    def set_price(self, newPrice):\n",
    "        self.price = newPrice\n",
    "        print(\"New Price is: \",self.price)\n",
    "        \n",
    "    def get_price(self):\n",
    "        return self.price\n",
    "    \n",
    "    def set_genre(self, newGenre):\n",
    "        self.genre = newGenre\n",
    "        print(\"New Genre is:\",self.genre)\n",
    "    \n",
    "    def get_genre(self):\n",
    "        return self.genre\n",
    "    \n",
    "    def set_name(self, newName):\n",
    "        self.name = newName\n",
    "        print(\"New Name is: \",self.name)\n",
    "        \n",
    "    def get_name(self):\n",
    "        return self.name\n",
    "    \n",
    "    def set_author(self, newAuthor):\n",
    "        self.author = newAuthor\n",
    "        print(\"New Author is:\",self.author)\n",
    "    \n",
    "    def get_author(self):\n",
    "        return self.author\n",
    "    \n",
    "    def __len__(self):\n",
    "        return self.page\n",
    "    \n",
    "    def __str__(self):\n",
    "        return \"{}-{}, {}\".format(self.name, self.author, self.page)\n",
    "        "
   ]
  },
  {
   "cell_type": "code",
   "execution_count": 15,
   "metadata": {},
   "outputs": [
    {
     "name": "stdout",
     "output_type": "stream",
     "text": [
      "Gecelerin Yargıcı-Tuğçe Kandemir, 5\n"
     ]
    }
   ],
   "source": [
    "b1 = Book(\"Gecelerin Yargıcı\", \"Tuğçe Kandemir\", 5)\n",
    "print(b1)"
   ]
  },
  {
   "cell_type": "code",
   "execution_count": 5,
   "metadata": {},
   "outputs": [],
   "source": [
    "# Bi tane book store'umuz var\n",
    "# Kitap listesi oluşturacağız\n",
    "# Kitap ekle, kitap sat"
   ]
  },
  {
   "cell_type": "code",
   "execution_count": 27,
   "metadata": {},
   "outputs": [],
   "source": [
    "b2 = Book(\"Simyager\",\"Tugce Ay\",99)\n",
    "b3 = Book(\"Kötü Çocuk\",\"Fatih Köprücü\",165)\n",
    "b4 = Book(\"Anam\",\"Fatma KÖprücü\",1234)\n",
    "book_list = set([b1, b2, b3, b4])"
   ]
  },
  {
   "cell_type": "code",
   "execution_count": 33,
   "metadata": {},
   "outputs": [
    {
     "name": "stdout",
     "output_type": "stream",
     "text": [
      "\n",
      "---------------WELLCOME TO MY BOOKSTORE---------------\n",
      "\n",
      "Enter  a key to continue\n",
      "\n",
      "1-) Add book\n",
      "2-) Buy Book\n",
      "3-) Show Books\n",
      "4-) Edit Book\n",
      "5-) Quit\n",
      "\n",
      "----------------------------------------------------\n",
      "\n",
      "Kötü Çocuk-Fatih Köprücü, 165 aldınız.\n",
      "1 - Dalgacı ile Dişlek-Tolga Abi, 32\n",
      "2 - Anam-Fatma KÖprücü, 1234\n",
      "3 - Gecelerin Yargıcı-Tuğçe Kandemir, 5\n",
      "4 - Simyager-Tugce Ay, 99\n"
     ]
    }
   ],
   "source": [
    "screen_message = \"\"\"\n",
    "---------------WELLCOME TO MY BOOKSTORE---------------\n",
    "\n",
    "Enter  a key to continue\n",
    "\n",
    "1-) Add book\n",
    "2-) Buy Book\n",
    "3-) Show Books\n",
    "4-) Edit Book\n",
    "5-) Quit\n",
    "\n",
    "----------------------------------------------------\n",
    "\"\"\"\n",
    "\n",
    "print(screen_message)\n",
    "\n",
    "def show_books(books):\n",
    "    for i,book in enumerate(books):\n",
    "        print(i+1,\"-\",book)\n",
    "        \n",
    "def add_book(book):\n",
    "    book_list.add(book)\n",
    "    print(book,\"is added\")\n",
    "    \n",
    "def buy_book(book):\n",
    "    book_list.remove(book)\n",
    "    print(book, \"aldınız.\")\n",
    "    \n",
    "buy_book(b3)\n",
    "show_books(book_list)"
   ]
  }
 ],
 "metadata": {
  "kernelspec": {
   "display_name": "Python 3",
   "language": "python",
   "name": "python3"
  },
  "language_info": {
   "codemirror_mode": {
    "name": "ipython",
    "version": 3
   },
   "file_extension": ".py",
   "mimetype": "text/x-python",
   "name": "python",
   "nbconvert_exporter": "python",
   "pygments_lexer": "ipython3",
   "version": "3.6.9"
  }
 },
 "nbformat": 4,
 "nbformat_minor": 2
}
