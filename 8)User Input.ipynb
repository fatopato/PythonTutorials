{
 "cells": [
  {
   "cell_type": "markdown",
   "metadata": {},
   "source": [
    "# Kullanıcı Girişi"
   ]
  },
  {
   "cell_type": "code",
   "execution_count": 5,
   "metadata": {},
   "outputs": [
    {
     "name": "stdout",
     "output_type": "stream",
     "text": [
      "Yaşınız kaçtır?: 22\n",
      "Sizin yaşınız: 22\n"
     ]
    }
   ],
   "source": [
    "# Kullanıcıdan giriş değeri almak için input()fonksiyonu kullanılır\n",
    "# Alınan değer bir değişkene atanabilir\n",
    "# Örnek x = input(Soru cümlesi)\n",
    "\n",
    "yas = input(\"Yaşınız kaçtır?: \")\n",
    "print(\"Sizin yaşınız:\",yas)"
   ]
  },
  {
   "cell_type": "code",
   "execution_count": 9,
   "metadata": {},
   "outputs": [
    {
     "name": "stdout",
     "output_type": "stream",
     "text": [
      "Doğum yılınız?: 2000\n",
      "Doğum yılınız: 2000\n",
      "Yaşınız:  20\n"
     ]
    }
   ],
   "source": [
    "# input ile aldığımız değerin tipi string olur\n",
    "# Eğer bir sayı almak istiyorsak onu int ya da float'a çevirmemiz gerekir\n",
    "# Örneğin doğum_yili = int(input(\"Doğum yılınız?: \"))\n",
    "\n",
    "doğum_yili = int(input(\"Doğum yılınız?: \"))\n",
    "print(\"Doğum yılınız:\",doğum_yili)\n",
    "print(\"Yaşınız: \", 2020-doğum_yili)"
   ]
  },
  {
   "cell_type": "code",
   "execution_count": 10,
   "metadata": {},
   "outputs": [],
   "source": [
    "## Örnek soru\n",
    "# kullanici_adi = \"fatopato\"\n",
    "# sifre = \"1234\"\n",
    "# eğer kullanıcı adı ve şifre doğru ise \"Wellcome\"\n",
    "# eğer sadece kullanıcı adı doğruysa \"Şifre hatalı\"\n",
    "# ikisi de hatalıysa \"Defol\"\n",
    "# Kullanıcıdan önce kullanıcı adı iste\n",
    "# Sonra şifre iste ve karşılaştır"
   ]
  },
  {
   "cell_type": "code",
   "execution_count": 1,
   "metadata": {},
   "outputs": [
    {
     "name": "stdout",
     "output_type": "stream",
     "text": [
      "Kullanıcı adınızı giriniz.selam\n",
      "Şifrenizi giriniz.1223\n",
      "Defol\n"
     ]
    }
   ],
   "source": [
    "kullanici_adi = \"fatopato\"\n",
    "sifre = \"1234\"\n",
    "kullanici_adi_deneme = input(\"Kullanıcı adınızı giriniz.\")\n",
    "sifre_deneme = input(\"Şifrenizi giriniz.\")\n",
    "\n",
    "if kullanici_adi_deneme == kullanici_adi and sifre_deneme == sifre:\n",
    "    print(\"Wellcome\")\n",
    "    \n",
    "elif kullanici_adi_deneme == kullanici_adi and sifre_deneme !=sifre:\n",
    "    print(\"Şifre hatalı.\")\n",
    "\n",
    "else:\n",
    "    print(\"Defol\")"
   ]
  },
  {
   "cell_type": "code",
   "execution_count": null,
   "metadata": {},
   "outputs": [],
   "source": []
  }
 ],
 "metadata": {
  "kernelspec": {
   "display_name": "Python 3",
   "language": "python",
   "name": "python3"
  },
  "language_info": {
   "codemirror_mode": {
    "name": "ipython",
    "version": 3
   },
   "file_extension": ".py",
   "mimetype": "text/x-python",
   "name": "python",
   "nbconvert_exporter": "python",
   "pygments_lexer": "ipython3",
   "version": "3.6.9"
  }
 },
 "nbformat": 4,
 "nbformat_minor": 2
}
