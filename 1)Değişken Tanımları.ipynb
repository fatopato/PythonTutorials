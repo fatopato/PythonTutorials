{
 "cells": [
  {
   "cell_type": "markdown",
   "metadata": {},
   "source": [
    "# Wellcome To Python"
   ]
  },
  {
   "cell_type": "markdown",
   "metadata": {},
   "source": [
    "## Printing"
   ]
  },
  {
   "cell_type": "code",
   "execution_count": 2,
   "metadata": {},
   "outputs": [
    {
     "name": "stdout",
     "output_type": "stream",
     "text": [
      "Fatih çay almaya gitti\n"
     ]
    }
   ],
   "source": [
    "print(\"Fatih çay almaya gitti\")"
   ]
  },
  {
   "cell_type": "code",
   "execution_count": 3,
   "metadata": {},
   "outputs": [
    {
     "name": "stdout",
     "output_type": "stream",
     "text": [
      "Tugce onu su an bile cok özlüyor\n"
     ]
    }
   ],
   "source": [
    "print(\"Tugce onu su an bile cok özlüyor\")"
   ]
  },
  {
   "cell_type": "code",
   "execution_count": 4,
   "metadata": {},
   "outputs": [
    {
     "name": "stdout",
     "output_type": "stream",
     "text": [
      "as\n"
     ]
    }
   ],
   "source": [
    "print(\"as\")"
   ]
  },
  {
   "cell_type": "code",
   "execution_count": 5,
   "metadata": {},
   "outputs": [],
   "source": [
    "# Bu bir yorumdur\n",
    "# Yorum için (#) işareti kullanılır\n",
    "# Yorumlar programa dahil değildir\n",
    "# Bilgi amaçlıdır"
   ]
  },
  {
   "cell_type": "code",
   "execution_count": 8,
   "metadata": {},
   "outputs": [],
   "source": [
    "# Değişken tanımı = kullanılarak yapılır\n",
    "# değişken_adı = değişkenin değeri\n",
    "# string ise değişken tırnak(\"\") arasında gösteirlir\n",
    "# sayı ise doğrudan yazılır\n",
    "name = 'Tuğçe'\n",
    "surname = \"Köprücü\"\n",
    "age = \"çıtır\"\n",
    "birth_year = 1996"
   ]
  },
  {
   "cell_type": "code",
   "execution_count": 10,
   "metadata": {},
   "outputs": [
    {
     "name": "stdout",
     "output_type": "stream",
     "text": [
      "1996\n"
     ]
    }
   ],
   "source": [
    "# Bir değişkeni yazdırmak için print(değişken_adı) kullanılır\n",
    "print(birth_year)"
   ]
  },
  {
   "cell_type": "code",
   "execution_count": 11,
   "metadata": {},
   "outputs": [],
   "source": [
    "# Test sorusu\n",
    "# İsmim: name soyismim: surname, yaşım: age"
   ]
  },
  {
   "cell_type": "code",
   "execution_count": 14,
   "metadata": {},
   "outputs": [
    {
     "name": "stdout",
     "output_type": "stream",
     "text": [
      "My name is: Tuğçe, My surname is: Köprücü, My age is: çıtır\n"
     ]
    }
   ],
   "source": [
    "print(\"My name is: \" + name +\", \" + \"My surname is: \" + surname + \", \" + \"My age is: \" + age)"
   ]
  },
  {
   "cell_type": "code",
   "execution_count": 15,
   "metadata": {},
   "outputs": [
    {
     "name": "stdout",
     "output_type": "stream",
     "text": [
      "My name is: Tuğçe, My surname is: Köprücü, My age is: çıtır\n"
     ]
    }
   ],
   "source": [
    "print(\"My name is: \" + name + \", My surname is: \" + surname + \", My age is: \" + age)"
   ]
  },
  {
   "cell_type": "code",
   "execution_count": 17,
   "metadata": {},
   "outputs": [
    {
     "name": "stdout",
     "output_type": "stream",
     "text": [
      "My name is Tuğçe , My surname is Köprücü , My age çıtır\n"
     ]
    }
   ],
   "source": [
    "print(\"My name is\", name, \", My surname is\", surname, \", My age\", age)"
   ]
  },
  {
   "cell_type": "code",
   "execution_count": null,
   "metadata": {},
   "outputs": [],
   "source": []
  }
 ],
 "metadata": {
  "kernelspec": {
   "display_name": "Python 3",
   "language": "python",
   "name": "python3"
  },
  "language_info": {
   "codemirror_mode": {
    "name": "ipython",
    "version": 3
   },
   "file_extension": ".py",
   "mimetype": "text/x-python",
   "name": "python",
   "nbconvert_exporter": "python",
   "pygments_lexer": "ipython3",
   "version": "3.6.9"
  }
 },
 "nbformat": 4,
 "nbformat_minor": 2
}
